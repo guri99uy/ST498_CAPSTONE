{
 "cells": [
  {
   "attachments": {},
   "cell_type": "markdown",
   "metadata": {},
   "source": [
    "## Imports "
   ]
  },
  {
   "cell_type": "code",
   "execution_count": 1068,
   "metadata": {},
   "outputs": [],
   "source": [
    "import pandas as pd\n",
    "import matplotlib.pyplot as plt\n",
    "import seaborn as sns\n",
    "import numpy as np\n",
    "\n",
    "from sklearn.preprocessing import StandardScaler, OneHotEncoder, TargetEncoder\n",
    "from sklearn.decomposition import PCA\n",
    "from sklearn.cluster import KMeans\n",
    "from sklearn.ensemble import RandomForestRegressor, RandomForestClassifier\n",
    "from sklearn.feature_selection import SelectFromModel\n",
    "from sklearn.model_selection import train_test_split, cross_val_score, KFold\n",
    "from sklearn.linear_model import LogisticRegression, LinearRegression, Ridge, Lasso\n",
    "from sklearn.metrics import roc_auc_score, r2_score\n",
    "\n",
    "\n",
    "\n",
    "# Double Machine Learning functions from EconML\n",
    "import shap\n",
    "from econml.dml import LinearDML, CausalForestDML\n",
    "from econml.cate_interpreter import SingleTreeCateInterpreter, SingleTreePolicyInterpreter\n",
    "from econml.grf import CausalForest\n",
    "\n",
    "\n",
    "# Meta-Learners from EconML\n",
    "from econml.metalearners import XLearner, TLearner, SLearner"
   ]
  },
  {
   "attachments": {},
   "cell_type": "markdown",
   "metadata": {},
   "source": [
    "## Preprocessing\n",
    "\n",
    "Note almost all preprocessing steps have been done in other notebooks and have resulted in the csv imported below. See FLASH.ipynb and Flash_InterventionConsolide.ipynb for all steps. "
   ]
  },
  {
   "cell_type": "code",
   "execution_count": 1069,
   "metadata": {},
   "outputs": [],
   "source": [
    "socio_file = r\"/socioEcodata.csv\"\n",
    "socio_csv_path = \"/Users/finbarrhodes/Documents/Github/ST498_CAPSTONE/FLASH/toShare\" + socio_file\n",
    "df_socio = pd.read_csv(socio_csv_path)"
   ]
  },
  {
   "cell_type": "code",
   "execution_count": 1070,
   "metadata": {},
   "outputs": [],
   "source": [
    "df_socio['ID'] = range(1,len(df_socio) + 1) # make IDs\n",
    "id_dict = df_socio.set_index('HASH_KEY')['ID'].to_dict() # make dictionary with ID-hash key pairs"
   ]
  },
  {
   "attachments": {},
   "cell_type": "markdown",
   "metadata": {},
   "source": [
    "Importing data and Making clusters a categorical feature"
   ]
  },
  {
   "cell_type": "code",
   "execution_count": 1071,
   "metadata": {},
   "outputs": [],
   "source": [
    "flash = pd.read_csv(\"/Users/finbarrhodes/Documents/GitHub/ST498_CAPSTONE/Notebooks/ANON_ID_w_socio_and_clusters.csv\")\n",
    "\n",
    "flash['ANON_ID'] = flash['ANON_ID'].map(id_dict)\n",
    "\n",
    "# flash['Delta'] = flash['Delta'] * -1\n",
    "\n",
    "# Changing cluster column type\n",
    "flash['Cluster'] = flash['Cluster'].astype(\"int\").astype(\"category\")\n",
    "\n",
    "flash['Group'] = np.where(flash['Group'] == 'Control', 0, 1)\n",
    "\n",
    "# train-test split\n",
    "flash_train, flash_test = train_test_split(flash, test_size=.2, random_state=1)\n"
   ]
  },
  {
   "attachments": {},
   "cell_type": "markdown",
   "metadata": {},
   "source": [
    "## DML Causal Forest Implementation"
   ]
  },
  {
   "attachments": {},
   "cell_type": "markdown",
   "metadata": {},
   "source": [
    "Encoding Categorical Variables"
   ]
  },
  {
   "attachments": {},
   "cell_type": "markdown",
   "metadata": {},
   "source": [
    "DML Components\n",
    "\n",
    "We have to specify the following in our work: \n",
    "\n",
    "Outcome Variable Y:\n",
    "- Peak-hour consumption change\n",
    "\n",
    "Treatment Variable T:\n",
    "- Binary of whether the ID was in intervention or control\n",
    "\n",
    "**Heterogeneity Features X: \n",
    "- Cluster labels as dummy variables\n",
    "\n",
    "**Control Features W:\n",
    "- All other socioeconomic features\n"
   ]
  },
  {
   "cell_type": "code",
   "execution_count": 1103,
   "metadata": {},
   "outputs": [],
   "source": [
    "features = ['AGE_GROUP', 'INCOME_CATEGORY', 'CHILDREN_AT_HOME'] \n",
    "            \n",
    "\"\"\"'HOUSEHOLD_OCCUPANCY','HOUSEHOLD_SIZE','NUMBER_OF_BEDROOMS', 'OCCUPATION', \n",
    "'EMPLOYMENT_STATUS', 'HOME_OWNERSHIP', 'TARIFF_GROUP', 'HOME_TYPE', 'HOME_VALUE', 'SOCIAL_GRADE', 'HIGHEST_QUALIFICATION']\n",
    "\"\"\"\n",
    "\n",
    "cats = flash_train[features]\n",
    "\n",
    "\n",
    "# Y -> Outcome Variable: Peak-hour consumption change\n",
    "Y = np.ravel(flash_train[['Delta']])\n",
    "\n",
    "# T -> Treatment Variable: Control vs. Intervention Group\n",
    "T = flash_train[['Group']]\n",
    "\n",
    "# X -> Heterogeneity Features: Cluster labels as dummies\n",
    "# one-hot-encoding cluster membership \n",
    "\"\"\"\n",
    "ohe = OneHotEncoder(sparse_output=False, drop=None)\n",
    "encoded_clusters = ohe.fit_transform(flash_train[['Cluster']])\n",
    "cluster_names = ohe.get_feature_names_out(['Cluster'])\n",
    "\"\"\"\n",
    "\n",
    "# making new df and replacing cluster column with encoded cluster columns in training set to use as X in cf\n",
    "encoded_clusters = pd.get_dummies(flash_train[['Cluster']]).astype('int')\n",
    "# pd.DataFrame(encoded_clusters, columns=category_names).astype('int')\n",
    "\n",
    "# encoding socio features\n",
    "encoded_socio = pd.get_dummies(flash_train[features]).astype(\"int\")\n",
    "\n",
    "X = pd.concat([encoded_clusters, encoded_socio], axis=1)\n",
    "\n",
    "# W -> Control Features: All other socioeconomic variables (FOR NOW)\n",
    "W = pd.get_dummies(cats)\n",
    "# flash_train[features]\n"
   ]
  },
  {
   "cell_type": "code",
   "execution_count": 1073,
   "metadata": {},
   "outputs": [
    {
     "data": {
      "text/plain": [
       "'\\nselector = SelectFromModel(Lasso(alpha=0.01))\\nW_dummies = pd.get_dummies(W, drop_first=True)\\nW_selected = selector.fit_transform(W_dummies, Y)\\n'"
      ]
     },
     "execution_count": 1073,
     "metadata": {},
     "output_type": "execute_result"
    }
   ],
   "source": [
    "# Problem: Too many features for our sample size\n",
    "\n",
    "# Potential solutions:\n",
    "\n",
    "\n",
    "# 1) Target Encoding\n",
    "\"\"\"te = TargetEncoder()\n",
    "te_encoded = pd.DataFrame(te.fit_transform(W,Y), columns=features)\n",
    "\"\"\"\n",
    "# 2) Lasso feature selection\n",
    "\"\"\"\n",
    "selector = SelectFromModel(Lasso(alpha=0.01))\n",
    "W_dummies = pd.get_dummies(W, drop_first=True)\n",
    "W_selected = selector.fit_transform(W_dummies, Y)\n",
    "\"\"\"\n",
    "\n",
    "# 3) Grouping levels within categories \n",
    "## i.e making income into low-med-high, children into yes/no, etc. \n",
    "\n",
    "# 4) Dimension reduction via PCA (seems like a stretch, loses interpretability)\n",
    "\n",
    "# 5) Using domain knowledge to pick 'more important' ones to implement first, and adding ones until the model suffers "
   ]
  },
  {
   "attachments": {},
   "cell_type": "markdown",
   "metadata": {},
   "source": [
    "First Stage Models"
   ]
  },
  {
   "cell_type": "code",
   "execution_count": 1074,
   "metadata": {},
   "outputs": [],
   "source": [
    "# model Y -> uses features to predict the outcome Y \n",
    "model_y = RandomForestRegressor(n_estimators=500, min_samples_leaf=5)\n",
    "\n",
    "# model T -> uses featrues to predict the treatment T\n",
    "model_t = RandomForestClassifier(n_estimators=500, min_samples_leaf=25)\n",
    "# LogisticRegression()\n"
   ]
  },
  {
   "cell_type": "code",
   "execution_count": 1075,
   "metadata": {},
   "outputs": [
    {
     "name": "stderr",
     "output_type": "stream",
     "text": [
      "A column-vector y was passed when a 1d array was expected. Please change the shape of y to (n_samples,), for example using ravel().\n"
     ]
    },
    {
     "name": "stdout",
     "output_type": "stream",
     "text": [
      "CV AUC score: 0.5123 ± 0.1024\n"
     ]
    }
   ],
   "source": [
    "model_t.fit(X=X, y=T)\n",
    "\n",
    "encoded_clusters_test = pd.get_dummies(flash_test[['Cluster']]).astype('int').astype('category')\n",
    "encoded_socio_test = pd.get_dummies(flash_test[features]).astype(\"int\").astype('category')\n",
    "X_test = pd.concat([encoded_clusters_test, encoded_socio_test], axis=1)\n",
    "\n",
    "model_t.predict(X_test)\n",
    "scores = cross_val_score(model_t, X_test, flash_test['Group'], cv=5, scoring='roc_auc')\n",
    "print(f\"CV AUC score: {np.mean(scores):.4f} ± {np.std(scores):.4f}\")\n"
   ]
  },
  {
   "cell_type": "code",
   "execution_count": 1076,
   "metadata": {},
   "outputs": [
    {
     "name": "stdout",
     "output_type": "stream",
     "text": [
      "R2: -0.0549 ± 0.1466\n"
     ]
    }
   ],
   "source": [
    "model_y.fit(X=X, y=Y)\n",
    "model_y.predict(X_test)\n",
    "scores = cross_val_score(model_y, X_test, flash_test['Delta'], cv=5, scoring='r2')\n",
    "print(f\"R2: {np.mean(scores):.4f} ± {np.std(scores):.4f}\")"
   ]
  },
  {
   "cell_type": "markdown",
   "metadata": {},
   "source": [
    "Initializing Causal Forest"
   ]
  },
  {
   "cell_type": "code",
   "execution_count": 1077,
   "metadata": {},
   "outputs": [],
   "source": [
    "cf = CausalForestDML(\n",
    "    model_y=model_y,           # see above\n",
    "    model_t=model_t,           # see above \n",
    "    n_estimators=100,          # Number of trees in the forest\n",
    "    max_depth=None,              # Max depth of each tree\n",
    "    min_samples_leaf=10,        # Min samples required in a leaf\n",
    "    max_samples=0.45,           # Fraction of samples to use for each tree\n",
    "    discrete_treatment=True,   # Binary treatment\n",
    "    cv=5,                      # 5-fold cross-fitting\n",
    "    honest=True,               # 'honest' splitting separates data used for node splitting and treatment effect measurement\n",
    "    criterion='het',           # splitting criterion maximises heterogeneity score; could also use 'mse'\n",
    "    random_state=1\n",
    ")\n",
    "\n",
    "# Fit the model\n",
    "fit = cf.fit(Y, T, X=X, W=None, inference='blb')"
   ]
  },
  {
   "cell_type": "code",
   "execution_count": 1078,
   "metadata": {},
   "outputs": [],
   "source": [
    "#X_test = ohe.fit_transform(flash_test[['Cluster']])\n",
    "\n",
    "treatment_effects = cf.effect(X_test, T0=0, T1=1)\n",
    "# this returns treatment for each row (individual) in the test set\n",
    "\n",
    "# Get confidence intervals\n",
    "lower, upper = cf.effect_interval(X_test, T0=0, T1=1, alpha=0.2)\n"
   ]
  },
  {
   "cell_type": "code",
   "execution_count": 1079,
   "metadata": {},
   "outputs": [
    {
     "data": {
      "text/plain": [
       "<econml.inference._inference.NormalInferenceResults at 0x2f3890f80>"
      ]
     },
     "execution_count": 1079,
     "metadata": {},
     "output_type": "execute_result"
    }
   ],
   "source": [
    "cf.effect_inference(X_test, T0=0, T1=1)"
   ]
  },
  {
   "cell_type": "code",
   "execution_count": 1080,
   "metadata": {},
   "outputs": [
    {
     "data": {
      "text/plain": [
       "\"\\nplt.hist(treatment_effects, bins=50)\\nplt.xlabel('Estimated Treatment Effect')\\nplt.ylabel('Frequency')\\nplt.title('Distribution of Heterogeneous Treatment Effects')\\n\""
      ]
     },
     "execution_count": 1080,
     "metadata": {},
     "output_type": "execute_result"
    }
   ],
   "source": [
    "\"\"\"\n",
    "plt.hist(treatment_effects, bins=50)\n",
    "plt.xlabel('Estimated Treatment Effect')\n",
    "plt.ylabel('Frequency')\n",
    "plt.title('Distribution of Heterogeneous Treatment Effects')\n",
    "\"\"\""
   ]
  },
  {
   "cell_type": "code",
   "execution_count": 1081,
   "metadata": {},
   "outputs": [
    {
     "name": "stderr",
     "output_type": "stream",
     "text": [
      "The default of observed=False is deprecated and will be changed to True in a future version of pandas. Pass observed=False to retain current behavior or observed=True to adopt the future default and silence this warning.\n"
     ]
    },
    {
     "data": {
      "text/plain": [
       "Text(0, 0.5, 'Mean Treatment Effect')"
      ]
     },
     "execution_count": 1081,
     "metadata": {},
     "output_type": "execute_result"
    },
    {
     "data": {
      "image/png": "[encoded data removed]",
      "text/plain": [
       "<Figure size 640x480 with 1 Axes>"
      ]
     },
     "metadata": {},
     "output_type": "display_data"
    }
   ],
   "source": [
    "results = pd.DataFrame({\"ANON_ID\" : flash_test['ANON_ID'],\n",
    "                        \"Cluster\" : flash_test['Cluster'],\n",
    "                        \"Treatment Effect\" : treatment_effects})\n",
    "\n",
    "group_means = results.groupby('Cluster')['Treatment Effect'].mean()\n",
    "\n",
    "plt.bar(results['Cluster'].unique(), group_means, capsize=10, color='orange', alpha=1)\n",
    "# plt.hlines(y=0, xmax=8, xmin=0)\n",
    "plt.title('Treatment Effect by Cluster')\n",
    "plt.xlabel('Cluster')\n",
    "plt.ylabel('Mean Treatment Effect')"
   ]
  },
  {
   "cell_type": "code",
   "execution_count": 1082,
   "metadata": {},
   "outputs": [
    {
     "data": {
      "text/plain": [
       "'\\nshap_values = cf.shap_values(X)\\n# local view: explain heterogeneity for a given observation\\nind=0\\nshap.plots.force(shap_values[\"Y0\"][\"T0\"][ind], matplotlib=True)\\n# global view: explain heterogeneity for a sample of dataset\\nshap.summary_plot(shap_values[\\'Y0\\'][\\'T0\\'])\\n'"
      ]
     },
     "execution_count": 1082,
     "metadata": {},
     "output_type": "execute_result"
    },
    {
     "data": {
      "image/png": "[encoded data removed]",
      "text/plain": [
       "<Figure size 640x480 with 1 Axes>"
      ]
     },
     "metadata": {},
     "output_type": "display_data"
    }
   ],
   "source": [
    "# intrp = SingleTreeCateInterpreter(include_model_uncertainty=True, max_depth=2, min_samples_leaf=10)\n",
    "intrp = SingleTreePolicyInterpreter(risk_level=None, max_depth=2, min_samples_leaf=1,min_impurity_decrease=.001)\n",
    "\n",
    "# We interpret the CATE model's behavior based on the features used for heterogeneity\n",
    "intrp.interpret(cf, X)\n",
    "# Plot the tree\n",
    "intrp.plot(feature_names=[0,1,2,3,4,5,6], fontsize=8)\n",
    "\n",
    "\"\"\"\n",
    "shap_values = cf.shap_values(X)\n",
    "# local view: explain heterogeneity for a given observation\n",
    "ind=0\n",
    "shap.plots.force(shap_values[\"Y0\"][\"T0\"][ind], matplotlib=True)\n",
    "# global view: explain heterogeneity for a sample of dataset\n",
    "shap.summary_plot(shap_values['Y0']['T0'])\n",
    "\"\"\""
   ]
  },
  {
   "attachments": {},
   "cell_type": "markdown",
   "metadata": {},
   "source": [
    "Things that still need to be ironed out:\n",
    "\n",
    "- Which socio features are in X\n",
    "- How are the socio features encoded\n",
    "- CF parameters"
   ]
  },
  {
   "cell_type": "code",
   "execution_count": 1083,
   "metadata": {},
   "outputs": [
    {
     "data": {
      "text/html": [
       "<div>\n",
       "<style scoped>\n",
       "    .dataframe tbody tr th:only-of-type {\n",
       "        vertical-align: middle;\n",
       "    }\n",
       "\n",
       "    .dataframe tbody tr th {\n",
       "        vertical-align: top;\n",
       "    }\n",
       "\n",
       "    .dataframe thead th {\n",
       "        text-align: right;\n",
       "    }\n",
       "</style>\n",
       "<table border=\"1\" class=\"dataframe\">\n",
       "  <thead>\n",
       "    <tr style=\"text-align: right;\">\n",
       "      <th>Group</th>\n",
       "      <th>0</th>\n",
       "      <th>1</th>\n",
       "    </tr>\n",
       "    <tr>\n",
       "      <th>Cluster</th>\n",
       "      <th></th>\n",
       "      <th></th>\n",
       "    </tr>\n",
       "  </thead>\n",
       "  <tbody>\n",
       "    <tr>\n",
       "      <th>0</th>\n",
       "      <td>5</td>\n",
       "      <td>7</td>\n",
       "    </tr>\n",
       "    <tr>\n",
       "      <th>1</th>\n",
       "      <td>24</td>\n",
       "      <td>31</td>\n",
       "    </tr>\n",
       "    <tr>\n",
       "      <th>2</th>\n",
       "      <td>20</td>\n",
       "      <td>28</td>\n",
       "    </tr>\n",
       "    <tr>\n",
       "      <th>3</th>\n",
       "      <td>42</td>\n",
       "      <td>46</td>\n",
       "    </tr>\n",
       "    <tr>\n",
       "      <th>4</th>\n",
       "      <td>39</td>\n",
       "      <td>38</td>\n",
       "    </tr>\n",
       "    <tr>\n",
       "      <th>5</th>\n",
       "      <td>37</td>\n",
       "      <td>60</td>\n",
       "    </tr>\n",
       "    <tr>\n",
       "      <th>6</th>\n",
       "      <td>110</td>\n",
       "      <td>127</td>\n",
       "    </tr>\n",
       "  </tbody>\n",
       "</table>\n",
       "</div>"
      ],
      "text/plain": [
       "Group      0    1\n",
       "Cluster          \n",
       "0          5    7\n",
       "1         24   31\n",
       "2         20   28\n",
       "3         42   46\n",
       "4         39   38\n",
       "5         37   60\n",
       "6        110  127"
      ]
     },
     "execution_count": 1083,
     "metadata": {},
     "output_type": "execute_result"
    }
   ],
   "source": [
    "pd.crosstab(flash['Cluster'], flash['Group'])"
   ]
  },
  {
   "attachments": {},
   "cell_type": "markdown",
   "metadata": {},
   "source": [
    "Tuning First Stage Models"
   ]
  },
  {
   "cell_type": "code",
   "execution_count": 1084,
   "metadata": {},
   "outputs": [
    {
     "name": "stderr",
     "output_type": "stream",
     "text": [
      "A column-vector y was passed when a 1d array was expected. Please change the shape of y to (n_samples,), for example using ravel().\n",
      "A column-vector y was passed when a 1d array was expected. Please change the shape of y to (n_samples,), for example using ravel().\n",
      "A column-vector y was passed when a 1d array was expected. Please change the shape of y to (n_samples,), for example using ravel().\n",
      "A column-vector y was passed when a 1d array was expected. Please change the shape of y to (n_samples,), for example using ravel().\n",
      "A column-vector y was passed when a 1d array was expected. Please change the shape of y to (n_samples,), for example using ravel().\n",
      "A column-vector y was passed when a 1d array was expected. Please change the shape of y to (n_samples,), for example using ravel().\n",
      "A column-vector y was passed when a 1d array was expected. Please change the shape of y to (n_samples,), for example using ravel().\n",
      "A column-vector y was passed when a 1d array was expected. Please change the shape of y to (n_samples,), for example using ravel().\n",
      "A column-vector y was passed when a 1d array was expected. Please change the shape of y to (n_samples,), for example using ravel().\n",
      "A column-vector y was passed when a 1d array was expected. Please change the shape of y to (n_samples,), for example using ravel().\n",
      "A column-vector y was passed when a 1d array was expected. Please change the shape of y to (n_samples,), for example using ravel().\n",
      "A column-vector y was passed when a 1d array was expected. Please change the shape of y to (n_samples,), for example using ravel().\n",
      "A column-vector y was passed when a 1d array was expected. Please change the shape of y to (n_samples,), for example using ravel().\n",
      "A column-vector y was passed when a 1d array was expected. Please change the shape of y to (n_samples,), for example using ravel().\n",
      "A column-vector y was passed when a 1d array was expected. Please change the shape of y to (n_samples,), for example using ravel().\n",
      "A column-vector y was passed when a 1d array was expected. Please change the shape of y to (n_samples,), for example using ravel().\n",
      "A column-vector y was passed when a 1d array was expected. Please change the shape of y to (n_samples,), for example using ravel().\n",
      "A column-vector y was passed when a 1d array was expected. Please change the shape of y to (n_samples,), for example using ravel().\n",
      "A column-vector y was passed when a 1d array was expected. Please change the shape of y to (n_samples,), for example using ravel().\n",
      "A column-vector y was passed when a 1d array was expected. Please change the shape of y to (n_samples,), for example using ravel().\n",
      "A column-vector y was passed when a 1d array was expected. Please change the shape of y to (n_samples,), for example using ravel().\n",
      "A column-vector y was passed when a 1d array was expected. Please change the shape of y to (n_samples,), for example using ravel().\n",
      "A column-vector y was passed when a 1d array was expected. Please change the shape of y to (n_samples,), for example using ravel().\n",
      "A column-vector y was passed when a 1d array was expected. Please change the shape of y to (n_samples,), for example using ravel().\n",
      "A column-vector y was passed when a 1d array was expected. Please change the shape of y to (n_samples,), for example using ravel().\n",
      "A column-vector y was passed when a 1d array was expected. Please change the shape of y to (n_samples,), for example using ravel().\n",
      "A column-vector y was passed when a 1d array was expected. Please change the shape of y to (n_samples,), for example using ravel().\n",
      "A column-vector y was passed when a 1d array was expected. Please change the shape of y to (n_samples,), for example using ravel().\n",
      "A column-vector y was passed when a 1d array was expected. Please change the shape of y to (n_samples,), for example using ravel().\n",
      "A column-vector y was passed when a 1d array was expected. Please change the shape of y to (n_samples,), for example using ravel().\n",
      "A column-vector y was passed when a 1d array was expected. Please change the shape of y to (n_samples,), for example using ravel().\n",
      "A column-vector y was passed when a 1d array was expected. Please change the shape of y to (n_samples,), for example using ravel().\n",
      "A column-vector y was passed when a 1d array was expected. Please change the shape of y to (n_samples,), for example using ravel().\n",
      "A column-vector y was passed when a 1d array was expected. Please change the shape of y to (n_samples,), for example using ravel().\n",
      "A column-vector y was passed when a 1d array was expected. Please change the shape of y to (n_samples,), for example using ravel().\n",
      "A column-vector y was passed when a 1d array was expected. Please change the shape of y to (n_samples,), for example using ravel().\n",
      "A column-vector y was passed when a 1d array was expected. Please change the shape of y to (n_samples,), for example using ravel().\n",
      "A column-vector y was passed when a 1d array was expected. Please change the shape of y to (n_samples,), for example using ravel().\n",
      "A column-vector y was passed when a 1d array was expected. Please change the shape of y to (n_samples,), for example using ravel().\n",
      "A column-vector y was passed when a 1d array was expected. Please change the shape of y to (n_samples,), for example using ravel().\n",
      "A column-vector y was passed when a 1d array was expected. Please change the shape of y to (n_samples,), for example using ravel().\n",
      "A column-vector y was passed when a 1d array was expected. Please change the shape of y to (n_samples,), for example using ravel().\n",
      "A column-vector y was passed when a 1d array was expected. Please change the shape of y to (n_samples,), for example using ravel().\n",
      "A column-vector y was passed when a 1d array was expected. Please change the shape of y to (n_samples,), for example using ravel().\n",
      "A column-vector y was passed when a 1d array was expected. Please change the shape of y to (n_samples,), for example using ravel().\n",
      "A column-vector y was passed when a 1d array was expected. Please change the shape of y to (n_samples,), for example using ravel().\n"
     ]
    }
   ],
   "source": [
    "from sklearn.model_selection import GridSearchCV\n",
    "\n",
    "param_grid = {'min_samples_leaf': [5, 6, 7, 8, 9, 10, 12, 15, 20]}\n",
    "\n",
    "# For the outcome model\n",
    "grid_search_y = GridSearchCV(\n",
    "    RandomForestRegressor(n_estimators=100),\n",
    "    param_grid, \n",
    "    cv=5,\n",
    "    scoring='neg_mean_squared_error'\n",
    ")\n",
    "grid_search_y.fit(np.hstack([X, W]), Y)\n",
    "best_min_samples_leaf_y = grid_search_y.best_params_['min_samples_leaf']\n",
    "\n",
    "# For the treatment model (if binary treatment)\n",
    "grid_search_t = GridSearchCV(\n",
    "    RandomForestClassifier(n_estimators=100),\n",
    "    param_grid, \n",
    "    cv=5,\n",
    "    scoring='roc_auc'\n",
    ")\n",
    "grid_search_t.fit(np.hstack([X, W]), T)\n",
    "best_min_samples_leaf_t = grid_search_t.best_params_['min_samples_leaf']"
   ]
  },
  {
   "cell_type": "code",
   "execution_count": 1085,
   "metadata": {},
   "outputs": [
    {
     "name": "stdout",
     "output_type": "stream",
     "text": [
      "Outcome model R² (cross-val): -0.138 ± 0.119\n"
     ]
    },
    {
     "name": "stderr",
     "output_type": "stream",
     "text": [
      "A column-vector y was passed when a 1d array was expected. Please change the shape of y to (n_samples,), for example using ravel().\n",
      "A column-vector y was passed when a 1d array was expected. Please change the shape of y to (n_samples,), for example using ravel().\n",
      "A column-vector y was passed when a 1d array was expected. Please change the shape of y to (n_samples,), for example using ravel().\n",
      "A column-vector y was passed when a 1d array was expected. Please change the shape of y to (n_samples,), for example using ravel().\n",
      "A column-vector y was passed when a 1d array was expected. Please change the shape of y to (n_samples,), for example using ravel().\n"
     ]
    },
    {
     "name": "stdout",
     "output_type": "stream",
     "text": [
      "Treatment model AUC (cross-val): 0.505 ± 0.011\n"
     ]
    }
   ],
   "source": [
    "# Using cross-validation to evaluate first-stage models\n",
    "from sklearn.model_selection import cross_val_score\n",
    "\n",
    "# Check outcome model performance\n",
    "y_scores = cross_val_score(model_y, np.hstack([X, W]), Y, cv=5, scoring='r2')\n",
    "print(f\"Outcome model R² (cross-val): {y_scores.mean():.3f} ± {y_scores.std():.3f}\")\n",
    "\n",
    "# Check treatment model performance (if binary)\n",
    "t_scores = cross_val_score(model_t, np.hstack([X, W]), T, cv=5, scoring='roc_auc')\n",
    "print(f\"Treatment model AUC (cross-val): {t_scores.mean():.3f} ± {t_scores.std():.3f}\")"
   ]
  },
  {
   "attachments": {},
   "cell_type": "markdown",
   "metadata": {},
   "source": [
    "## GRF Causal Forest"
   ]
  },
  {
   "cell_type": "code",
   "execution_count": 1183,
   "metadata": {},
   "outputs": [
    {
     "name": "stdout",
     "output_type": "stream",
     "text": [
      "Cluster 5 average effect: -0.02140498517103157\n",
      "Cluster 6 average effect: -0.002227873015270828\n",
      "Cluster 4 average effect: -0.002664000295959229\n",
      "Cluster 3 average effect: 0.007132881258423789\n",
      "Cluster 2 average effect: 0.015305905612456816\n",
      "Cluster 0 average effect: -0.003841120112380206\n",
      "Cluster 1 average effect: -0.006504345854487826\n",
      "Income Category: 100,000+ average effect: -0.004131737320084625\n",
      "Income Category: 20,000-29,999 average effect: -0.002623823078827626\n",
      "Income Category: 10,000-19,999 average effect: -0.005250978340619863\n",
      "Income Category: 50,000-74,999 average effect: -0.0032692961406581757\n",
      "Income Category: 30,000-39,999 average effect: -0.002481715470637564\n",
      "Income Category: 40,000-49,999 average effect: -0.0034178453145335165\n",
      "Income Category: 75,000-99,999 average effect: -0.001784608210505491\n",
      "Income Category: 0-9,999 average effect: -0.0008813974990177684\n",
      "Age Bracket: 55-64 average effect: -0.0034906653703631997\n",
      "Age Bracket: 65-74 average effect: -0.0025630940836716704\n",
      "Age Bracket: 35-44 average effect: -0.0019576116702441047\n",
      "Age Bracket: 25-34 average effect: -0.0020743265924262106\n",
      "Age Bracket: 18-24 average effect: -0.002967439420500749\n",
      "Age Bracket: 45-54 average effect: -0.0028453978833375723\n",
      "Age Bracket: 75+ average effect: -0.004885953704298862\n"
     ]
    }
   ],
   "source": [
    "features = ['AGE_GROUP', 'INCOME_CATEGORY', 'CHILDREN_AT_HOME'] \n",
    "            \n",
    "\"\"\"'HOUSEHOLD_OCCUPANCY','HOUSEHOLD_SIZE','NUMBER_OF_BEDROOMS', 'OCCUPATION', \n",
    "'EMPLOYMENT_STATUS', 'HOME_OWNERSHIP', 'TARIFF_GROUP', 'HOME_TYPE', 'HOME_VALUE', 'SOCIAL_GRADE', 'HIGHEST_QUALIFICATION']\n",
    "\"\"\"\n",
    "\n",
    "# Y -> Outcome Variable: Peak-hour consumption change\n",
    "Y = np.ravel(flash[['Delta']])\n",
    "\n",
    "# T -> Treatment Variable: Control vs. Intervention Group\n",
    "T = flash[['Group']]\n",
    "\n",
    "# X -> Heterogeneity Features: Cluster labels as dummies\n",
    "encoded_clusters = pd.get_dummies(flash[['Cluster']]).astype('int')\n",
    "# pd.DataFrame(encoded_clusters, columns=category_names).astype('int')\n",
    "\n",
    "# encoding socio features\n",
    "encoded_socio = pd.get_dummies(flash[features]).astype(\"int\")\n",
    "\n",
    "X = encoded_clusters\n",
    "# pd.concat([encoded_clusters, encoded_socio], axis=1)\n",
    "\n",
    "cf = CausalForest(\n",
    "    n_estimators=5000,\n",
    "    min_samples_leaf=5,\n",
    "    #max_features='sqrt',\n",
    "    criterion='het',\n",
    "    honest=True,\n",
    "    inference=True,\n",
    "    random_state=1\n",
    ")\n",
    "\n",
    "# X would be your socioeconomic variables\n",
    "cf.fit(X=X, T=T, y=Y)\n",
    "\n",
    "# For each cluster, get the average estimated effect\n",
    "for cluster_id in flash['Cluster'].unique():\n",
    "    cluster_mask = (flash['Cluster'] == cluster_id)\n",
    "    cluster_X = X[cluster_mask]\n",
    "    \n",
    "    cluster_effects = cf.predict(cluster_X)\n",
    "    print(f\"Cluster {cluster_id} average effect: {np.mean(cluster_effects)}\")\n",
    "\n",
    "# For each cluster, get the average estimated effect\n",
    "for income_level in flash['INCOME_CATEGORY'].unique():\n",
    "    group_mask = (flash['INCOME_CATEGORY'] == income_level)\n",
    "    group_X = X[group_mask]\n",
    "    \n",
    "    group_effects = cf.predict(group_X)\n",
    "    print(f\"Income Category: {income_level} average effect: {np.mean(group_effects)}\")\n",
    "\n",
    "for age in flash['AGE_GROUP'].unique():\n",
    "    group_mask = (flash['AGE_GROUP'] == age)\n",
    "    group_X = X[group_mask]\n",
    "    \n",
    "    group_effects = cf.predict(group_X)\n",
    "    print(f\"Age Bracket: {age} average effect: {np.mean(group_effects)}\")\n",
    "\n"
   ]
  },
  {
   "cell_type": "code",
   "execution_count": 1184,
   "metadata": {},
   "outputs": [
    {
     "data": {
      "image/png": "[encoded data removed]",
      "text/plain": [
       "<Figure size 1000x600 with 1 Axes>"
      ]
     },
     "metadata": {},
     "output_type": "display_data"
    }
   ],
   "source": [
    "# Calculate effects and confidence intervals for each cluster\n",
    "results = []\n",
    "for cluster_id in flash['Cluster'].unique():\n",
    "    cluster_mask = (flash['Cluster'] == cluster_id)\n",
    "    cluster_X = X[cluster_mask]\n",
    "    \n",
    "    # Get point estimates\n",
    "    cluster_effects = cf.predict(cluster_X)\n",
    "    mean_effect = np.mean(cluster_effects)\n",
    "    \n",
    "    # Get confidence intervals\n",
    "    lower, upper = cf.predict_interval(cluster_X, alpha=.2)\n",
    "    mean_lower = np.mean(lower)\n",
    "    mean_upper = np.mean(upper)\n",
    "    \n",
    "    results.append({\n",
    "        \"cluster\": f\"Cluster {cluster_id}\",\n",
    "        \"effect\": mean_effect,\n",
    "        \"lower\": mean_lower,\n",
    "        \"upper\": mean_upper\n",
    "    })\n",
    "\n",
    "# Convert to DataFrame and sort by effect size\n",
    "results_df = pd.DataFrame(results)\n",
    "results_df = results_df.sort_values(by=\"effect\")\n",
    "\n",
    "# Set up the plot\n",
    "plt.figure(figsize=(10, 6))\n",
    "\n",
    "\n",
    "# Create the barplot\n",
    "bars = plt.bar(\n",
    "    x=results_df[\"cluster\"],\n",
    "    height=results_df[\"effect\"],\n",
    "    color=\"orange\",\n",
    "    alpha=0.8\n",
    ")\n",
    "\n",
    "\"\"\"# Add error bars\n",
    "plt.errorbar(\n",
    "    x=range(len(results_df)),\n",
    "    y=results_df[\"effect\"],\n",
    "    yerr=[\n",
    "        results_df[\"effect\"] - results_df[\"lower\"],  # lower error\n",
    "        results_df[\"upper\"] - results_df[\"effect\"]   # upper error\n",
    "    ],\n",
    "    fmt=\"none\",\n",
    "    ecolor=\"black\",\n",
    "    capsize=5\n",
    ")\"\"\"\n",
    "\n",
    "# Add a reference line at y=0\n",
    "plt.axhline(y=0, color='black', linestyle='-', alpha=0.3)\n",
    "\n",
    "# Add titles and labels\n",
    "plt.title(\"Treatment Effects by Cluster\", fontsize=14, fontweight=\"bold\")\n",
    "plt.ylabel(\"Treatment Effect (Peak-hour consumption change, kWh)\", fontsize=12)\n",
    "\n",
    "# Customize y-axis to ensure it includes zero\n",
    "buffer = 0.005 * (max(results_df[\"upper\"]) - min(results_df[\"lower\"]))\n",
    "plt.ylim((-.025, .025))\n",
    "\n",
    "# Add grid for better readability\n",
    "plt.grid(axis='y', linestyle='--', alpha=0.7)\n",
    "\n",
    "\"\"\"# Add a note about confidence intervals\n",
    "plt.figtext(\n",
    "    0.5, 0.01,\n",
    "    \"Note: Error bars represent 80% confidence intervals\",\n",
    "    ha=\"center\",\n",
    "    fontsize=10,\n",
    "    fontstyle=\"italic\"\n",
    ")\"\"\"\n",
    "\n",
    "plt.tight_layout()\n",
    "\n",
    "# Save the figure if needed\n",
    "# plt.savefig(\"treatment_effects_by_cluster.png\", dpi=300, bbox_inches=\"tight\")\n",
    "\n",
    "# Display the plot\n",
    "plt.show()"
   ]
  },
  {
   "cell_type": "code",
   "execution_count": 1185,
   "metadata": {},
   "outputs": [
    {
     "data": {
      "text/html": [
       "<div>\n",
       "<style scoped>\n",
       "    .dataframe tbody tr th:only-of-type {\n",
       "        vertical-align: middle;\n",
       "    }\n",
       "\n",
       "    .dataframe tbody tr th {\n",
       "        vertical-align: top;\n",
       "    }\n",
       "\n",
       "    .dataframe thead th {\n",
       "        text-align: right;\n",
       "    }\n",
       "</style>\n",
       "<table border=\"1\" class=\"dataframe\">\n",
       "  <thead>\n",
       "    <tr style=\"text-align: right;\">\n",
       "      <th></th>\n",
       "      <th>Feature</th>\n",
       "      <th>Importance</th>\n",
       "    </tr>\n",
       "  </thead>\n",
       "  <tbody>\n",
       "    <tr>\n",
       "      <th>2</th>\n",
       "      <td>Cluster_2</td>\n",
       "      <td>0.333845</td>\n",
       "    </tr>\n",
       "    <tr>\n",
       "      <th>5</th>\n",
       "      <td>Cluster_5</td>\n",
       "      <td>0.217439</td>\n",
       "    </tr>\n",
       "    <tr>\n",
       "      <th>1</th>\n",
       "      <td>Cluster_1</td>\n",
       "      <td>0.133632</td>\n",
       "    </tr>\n",
       "    <tr>\n",
       "      <th>3</th>\n",
       "      <td>Cluster_3</td>\n",
       "      <td>0.115392</td>\n",
       "    </tr>\n",
       "    <tr>\n",
       "      <th>4</th>\n",
       "      <td>Cluster_4</td>\n",
       "      <td>0.109228</td>\n",
       "    </tr>\n",
       "    <tr>\n",
       "      <th>6</th>\n",
       "      <td>Cluster_6</td>\n",
       "      <td>0.090232</td>\n",
       "    </tr>\n",
       "    <tr>\n",
       "      <th>0</th>\n",
       "      <td>Cluster_0</td>\n",
       "      <td>0.000232</td>\n",
       "    </tr>\n",
       "  </tbody>\n",
       "</table>\n",
       "</div>"
      ],
      "text/plain": [
       "     Feature  Importance\n",
       "2  Cluster_2    0.333845\n",
       "5  Cluster_5    0.217439\n",
       "1  Cluster_1    0.133632\n",
       "3  Cluster_3    0.115392\n",
       "4  Cluster_4    0.109228\n",
       "6  Cluster_6    0.090232\n",
       "0  Cluster_0    0.000232"
      ]
     },
     "execution_count": 1185,
     "metadata": {},
     "output_type": "execute_result"
    }
   ],
   "source": [
    "\n",
    "# Get feature importances\n",
    "importances = cf.feature_importances_\n",
    "\n",
    "# Match with feature names\n",
    "feature_importance_df = pd.DataFrame({\n",
    "    'Feature': X.columns,\n",
    "    'Importance': importances\n",
    "})\n",
    "\n",
    "# Sort and visualize\n",
    "feature_importance_df = feature_importance_df.sort_values('Importance', ascending=False)\n",
    "feature_importance_df"
   ]
  },
  {
   "cell_type": "code",
   "execution_count": 1089,
   "metadata": {},
   "outputs": [
    {
     "ename": "IndexError",
     "evalue": "boolean index did not match indexed array along dimension 0; dimension is 123 but corresponding boolean dimension is 7",
     "output_type": "error",
     "traceback": [
      "\u001b[0;31m---------------------------------------------------------------------------\u001b[0m",
      "\u001b[0;31mIndexError\u001b[0m                                Traceback (most recent call last)",
      "Cell \u001b[0;32mIn[1089], line 8\u001b[0m\n\u001b[1;32m      6\u001b[0m     mask \u001b[39m=\u001b[39m (encoded_clusters\u001b[39m.\u001b[39mcolumns \u001b[39m==\u001b[39m cluster_id)\u001b[39m.\u001b[39mravel()\n\u001b[1;32m      7\u001b[0m     \u001b[39mif\u001b[39;00m np\u001b[39m.\u001b[39msum(mask) \u001b[39m>\u001b[39m \u001b[39m0\u001b[39m:\n\u001b[0;32m----> 8\u001b[0m         cluster_effects \u001b[39m=\u001b[39m treatment_effects[mask]\n\u001b[1;32m      9\u001b[0m         effects_by_cluster[cluster_id] \u001b[39m=\u001b[39m {\n\u001b[1;32m     10\u001b[0m             \u001b[39m'\u001b[39m\u001b[39mmean\u001b[39m\u001b[39m'\u001b[39m: np\u001b[39m.\u001b[39mmean(cluster_effects),\n\u001b[1;32m     11\u001b[0m             \u001b[39m'\u001b[39m\u001b[39mcount\u001b[39m\u001b[39m'\u001b[39m: np\u001b[39m.\u001b[39msum(mask),\n\u001b[1;32m     12\u001b[0m             \u001b[39m'\u001b[39m\u001b[39mstd\u001b[39m\u001b[39m'\u001b[39m: np\u001b[39m.\u001b[39mstd(cluster_effects)\n\u001b[1;32m     13\u001b[0m         }\n\u001b[1;32m     15\u001b[0m \u001b[39mprint\u001b[39m(\u001b[39m\"\u001b[39m\u001b[39m\\n\u001b[39;00m\u001b[39mTreatment Effects by Cluster:\u001b[39m\u001b[39m\"\u001b[39m)\n",
      "\u001b[0;31mIndexError\u001b[0m: boolean index did not match indexed array along dimension 0; dimension is 123 but corresponding boolean dimension is 7"
     ]
    }
   ],
   "source": [
    "# Calculate cluster-specific treatment effects\n",
    "unique_clusters = np.unique(encoded_clusters.columns)\n",
    "effects_by_cluster = {}\n",
    "\n",
    "for cluster_id in unique_clusters:\n",
    "    mask = (encoded_clusters.columns == cluster_id).ravel()\n",
    "    if np.sum(mask) > 0:\n",
    "        cluster_effects = treatment_effects[mask]\n",
    "        effects_by_cluster[cluster_id] = {\n",
    "            'mean': np.mean(cluster_effects),\n",
    "            'count': np.sum(mask),\n",
    "            'std': np.std(cluster_effects)\n",
    "        }\n",
    "\n",
    "print(\"\\nTreatment Effects by Cluster:\")\n",
    "for cluster, stats in effects_by_cluster.items():\n",
    "    print(f\"Cluster {cluster}: ATE = {stats['mean']:.4f} (n = {stats['count']}, std = {stats['std']:.4f})\")\n",
    "\n",
    "# Get confidence intervals\n",
    "try:\n",
    "    variances = grf_cf.predict_var(X)\n",
    "    std_errors = np.sqrt(variances)\n",
    "    \n",
    "    alpha = 0.05  # 95% confidence level\n",
    "    z_score = 1.96  # Approximate z-score for 95% confidence\n",
    "    \n",
    "    lower_ci = treatment_effects - z_score * std_errors\n",
    "    upper_ci = treatment_effects + z_score * std_errors\n",
    "    \n",
    "    cluster_cis = {}\n",
    "    for cluster_id in unique_clusters:\n",
    "        mask = (encoded_clusters.columns == cluster_id).ravel()\n",
    "        if np.sum(mask) > 0:\n",
    "            cluster_lower = lower_ci[mask]\n",
    "            cluster_upper = upper_ci[mask]\n",
    "            cluster_cis[cluster_id] = {\n",
    "                'mean_lb': np.mean(cluster_lower),\n",
    "                'mean_ub': np.mean(cluster_upper)\n",
    "            }\n",
    "    \n",
    "    print(\"\\nConfidence Intervals by Cluster (95%):\")\n",
    "    for cluster, ci in cluster_cis.items():\n",
    "        print(f\"Cluster {cluster}: [{ci['mean_lb']:.4f}, {ci['mean_ub']:.4f}]\")\n",
    "except Exception as e:\n",
    "    print(f\"\\nUnable to calculate confidence intervals: {e}\")\n",
    "\n",
    "# Feature importance\n",
    "if hasattr(grf_cf, 'feature_importances_'):\n",
    "    importance_df = pd.DataFrame({\n",
    "        'Feature': X.columns,\n",
    "        'Importance': grf_cf.feature_importances_\n",
    "    })\n",
    "    importance_df = importance_df.sort_values('Importance', ascending=False)\n",
    "    print(\"\\nTop features for treatment effect heterogeneity:\")\n",
    "    print(importance_df.head(10))"
   ]
  },
  {
   "cell_type": "code",
   "execution_count": null,
   "metadata": {},
   "outputs": [
    {
     "data": {
      "text/plain": [
       "Index(['Cluster_0', 'Cluster_1', 'Cluster_2', 'Cluster_3', 'Cluster_4',\n",
       "       'Cluster_5', 'Cluster_6'],\n",
       "      dtype='object')"
      ]
     },
     "execution_count": 1020,
     "metadata": {},
     "output_type": "execute_result"
    }
   ],
   "source": [
    "encoded_clusters.columns"
   ]
  }
 ],
 "metadata": {
  "kernelspec": {
   "display_name": "base",
   "language": "python",
   "name": "python3"
  },
  "language_info": {
   "codemirror_mode": {
    "name": "ipython",
    "version": 3
   },
   "file_extension": ".py",
   "mimetype": "text/x-python",
   "name": "python",
   "nbconvert_exporter": "python",
   "pygments_lexer": "ipython3",
   "version": "3.12.0"
  },
  "orig_nbformat": 4
 },
 "nbformat": 4,
 "nbformat_minor": 2
}
