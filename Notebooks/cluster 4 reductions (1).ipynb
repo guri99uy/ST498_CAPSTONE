{
 "cells": [
  {
   "cell_type": "code",
   "execution_count": 1,
   "id": "d92923b5",
   "metadata": {},
   "outputs": [
    {
     "name": "stderr",
     "output_type": "stream",
     "text": [
      "C:\\Users\\sonis\\AppData\\Roaming\\Python\\Python311\\site-packages\\pandas\\core\\arrays\\masked.py:60: UserWarning: Pandas requires version '1.3.6' or newer of 'bottleneck' (version '1.3.5' currently installed).\n",
      "  from pandas.core import (\n"
     ]
    }
   ],
   "source": [
    "import pandas as pd\n",
    "import numpy as np\n",
    "from scipy import stats"
   ]
  },
  {
   "cell_type": "code",
   "execution_count": 2,
   "id": "5230e088",
   "metadata": {},
   "outputs": [],
   "source": [
    "# Load the data to get cluster 4 IDs\n",
    "demo_df = pd.read_csv(r\"C:\\Users\\sonis\\Downloads\\comp_socio_df.csv\")\n",
    "cluster4_ids = demo_df[demo_df['Cluster_Comp06_k07'] == 4]['ANON_ID'].tolist()"
   ]
  },
  {
   "cell_type": "code",
   "execution_count": 3,
   "id": "4860cc10",
   "metadata": {},
   "outputs": [
    {
     "name": "stdout",
     "output_type": "stream",
     "text": [
      "Electricity data\n",
      "Total electricity records: 24246420\n"
     ]
    }
   ],
   "source": [
    "# Load the electricity data \n",
    "print(\"Electricity data\")\n",
    "elec_df = pd.read_csv(r\"C:\\Users\\sonis\\carbon_full_day.csv.gz\", compression='gzip')\n",
    "print(f\"Total electricity records: {len(elec_df)}\")"
   ]
  },
  {
   "cell_type": "code",
   "execution_count": 8,
   "id": "351b9d07",
   "metadata": {},
   "outputs": [
    {
     "name": "stdout",
     "output_type": "stream",
     "text": [
      "Cluster 4 electricity records: 2,672,251\n",
      "Unique cluster 4 customers found: 98\n",
      "Cluster  4 Analysis\n",
      "Analysis period data: 2,257,094 records\n"
     ]
    }
   ],
   "source": [
    "# Filter for cluster 4 customers only\n",
    "cluster4_elec = elec_df[elec_df['ANON_ID'].isin(cluster4_ids)]\n",
    "print(f\"Cluster 4 electricity records: {len(cluster4_elec):,}\")\n",
    "print(f\"Unique cluster 4 customers found: {cluster4_elec['ANON_ID'].nunique()}\")\n",
    "\n",
    "# Fix the copy warning and prepare data\n",
    "cluster4_elec = cluster4_elec.copy()\n",
    "cluster4_elec['DateTime'] = pd.to_datetime(cluster4_elec['DateTime'])\n",
    "\n",
    "# Filter for April-December analysis periods only\n",
    "cluster4_elec['month'] = cluster4_elec['DateTime'].dt.month\n",
    "cluster4_elec['year'] = cluster4_elec['DateTime'].dt.year\n",
    "cluster4_elec['hour'] = cluster4_elec['DateTime'].dt.hour\n",
    "cluster4_elec['day_of_week'] = cluster4_elec['DateTime'].dt.dayofweek  # 0=Monday, 6=Sunday\n",
    "\n",
    "# Filter for April-December in both years\n",
    "analysis_data = cluster4_elec[cluster4_elec['month'].isin([4,5,6,7,8,9,10,11,12])].copy()\n",
    "\n",
    "print(\"Cluster  4 Analysis\")\n",
    "print(f\"Analysis period data: {len(analysis_data):,} records\")"
   ]
  },
  {
   "cell_type": "code",
   "execution_count": 20,
   "id": "24da84b8",
   "metadata": {},
   "outputs": [
    {
     "name": "stdout",
     "output_type": "stream",
     "text": [
      "Current missing values:\n",
      "Missing kWh: 0\n",
      "Missing CO2: 0\n",
      "Missing intensity: 0\n",
      "\n",
      "Checking your specific problem dates:\n",
      "  2023-10-20: 4302 records, 22 unique hours\n",
      "    Time range: 2023-10-20 00:00:00 to 2023-10-20 21:30:00\n",
      "  2023-10-21: 0 records, 0 unique hours\n",
      "  2024-06-11: 4325 records, 23 unique hours\n",
      "    Time range: 2024-06-11 00:00:00 to 2024-06-11 22:30:00\n",
      "  2024-06-12: 1767 records, 10 unique hours\n",
      "    Time range: 2024-06-12 14:30:00 to 2024-06-12 23:30:00\n"
     ]
    }
   ],
   "source": [
    "# Check for missing values \n",
    "print(\"Current missing values:\")\n",
    "print(f\"Missing kWh: {cluster4_elec['ELEC_KWH'].isna().sum()}\")\n",
    "print(f\"Missing CO2: {cluster4_elec['carbon_emissions'].isna().sum()}\")\n",
    "print(f\"Missing intensity: {cluster4_elec['actual_intensity'].isna().sum()}\")\n",
    "\n",
    "# Check the specific dates\n",
    "print(f\"\\nChecking your specific problem dates:\")\n",
    "problem_dates = ['2023-10-20', '2023-10-21', '2024-06-11', '2024-06-12']\n",
    "\n",
    "for date in problem_dates:\n",
    "    date_data = cluster4_elec[cluster4_elec['DateTime'].dt.date == pd.to_datetime(date).date()]\n",
    "    unique_hours = date_data['DateTime'].dt.hour.nunique()\n",
    "    total_records = len(date_data)\n",
    "    print(f\"  {date}: {total_records} records, {unique_hours} unique hours\")\n",
    "    \n",
    "    if total_records > 0:\n",
    "        print(f\"    Time range: {date_data['DateTime'].min()} to {date_data['DateTime'].max()}\")"
   ]
  },
  {
   "cell_type": "markdown",
   "id": "c7901598",
   "metadata": {},
   "source": [
    "These dates were already removed in previous file by removing both carbon and electricity data where missing so they don't affect the current analysis. "
   ]
  },
  {
   "cell_type": "code",
   "execution_count": 9,
   "id": "403550d1",
   "metadata": {},
   "outputs": [
    {
     "name": "stdout",
     "output_type": "stream",
     "text": [
      "\n",
      "WHOLE DAY kWh ANALYSIS\n",
      "Whole day data: 2,257,094 records\n",
      "Daily kWh totals calculated: 47,813 customer-days\n",
      "Monthly kWh averages calculated: 1,711 customer-months\n"
     ]
    }
   ],
   "source": [
    "# WHOLE DAY kWh ANALYSIS \n",
    "print(\"\\nWHOLE DAY kWh ANALYSIS\")\n",
    "\n",
    "# Use all data \n",
    "kwh_data = analysis_data.copy()\n",
    "print(f\"Whole day data: {len(kwh_data):,} records\")\n",
    "\n",
    "# Calculate daily kWh totals per customer (all 48 intervals)\n",
    "daily_kwh_totals = kwh_data.groupby([\n",
    "    'ANON_ID', 'treatment', 'period', \n",
    "    kwh_data['DateTime'].dt.date\n",
    "]).agg({\n",
    "    'ELEC_KWH': 'sum'  # Daily kWh total (all day)\n",
    "}).reset_index()\n",
    "\n",
    "daily_kwh_totals.columns = ['ANON_ID', 'treatment', 'period', 'date', 'daily_total_kwh']\n",
    "daily_kwh_totals['date'] = pd.to_datetime(daily_kwh_totals['date'])\n",
    "daily_kwh_totals['year_month'] = daily_kwh_totals['date'].dt.to_period('M')\n",
    "\n",
    "print(f\"Daily kWh totals calculated: {len(daily_kwh_totals):,} customer-days\")\n",
    "\n",
    "# Calculate monthly averages for whole day\n",
    "monthly_kwh_avg = daily_kwh_totals.groupby([\n",
    "    'ANON_ID', 'treatment', 'period', 'year_month'\n",
    "]).agg({\n",
    "    'daily_total_kwh': 'mean'\n",
    "}).reset_index()\n",
    "\n",
    "print(f\"Monthly kWh averages calculated: {len(monthly_kwh_avg):,} customer-months\")"
   ]
  },
  {
   "cell_type": "code",
   "execution_count": 10,
   "id": "0b52765e",
   "metadata": {},
   "outputs": [
    {
     "name": "stdout",
     "output_type": "stream",
     "text": [
      "\n",
      "FULL DAY CO2 ANALYSIS\n",
      "Daily CO2 totals calculated: 47,813 customer-days\n",
      "Monthly CO2 averages calculated: 1,711 customer-months\n"
     ]
    }
   ],
   "source": [
    "# FULL DAY CO2 ANALYSIS (All 48 intervals)\n",
    "\n",
    "print(\"\\nFULL DAY CO2 ANALYSIS\")\n",
    "\n",
    "# Calculate daily CO2 totals per customer (all day)\n",
    "daily_co2_totals = analysis_data.groupby([\n",
    "    'ANON_ID', 'treatment', 'period', \n",
    "    analysis_data['DateTime'].dt.date\n",
    "]).agg({\n",
    "    'carbon_emissions': 'sum'  # Daily CO2 total (all 48 intervals)\n",
    "}).reset_index()\n",
    "\n",
    "daily_co2_totals.columns = ['ANON_ID', 'treatment', 'period', 'date', 'daily_co2_grams']\n",
    "daily_co2_totals['date'] = pd.to_datetime(daily_co2_totals['date'])\n",
    "daily_co2_totals['year_month'] = daily_co2_totals['date'].dt.to_period('M')\n",
    "\n",
    "print(f\"Daily CO2 totals calculated: {len(daily_co2_totals):,} customer-days\")\n",
    "\n",
    "# Calculate monthly averages for CO2\n",
    "monthly_co2_avg = daily_co2_totals.groupby([\n",
    "    'ANON_ID', 'treatment', 'period', 'year_month'\n",
    "]).agg({\n",
    "    'daily_co2_grams': 'mean'\n",
    "}).reset_index()\n",
    "\n",
    "print(f\"Monthly CO2 averages calculated: {len(monthly_co2_avg):,} customer-months\")"
   ]
  },
  {
   "cell_type": "code",
   "execution_count": 12,
   "id": "e909fbe5",
   "metadata": {},
   "outputs": [
    {
     "name": "stdout",
     "output_type": "stream",
     "text": [
      "\n",
      "WHOLE DAY kWh RESULTS\n",
      "Average daily TOTAL kWh reduction: -0.251 kWh/day\n",
      "Average percentage TOTAL kWh reduction: -2.33%\n"
     ]
    }
   ],
   "source": [
    "# WHOLE DAY kWh GROUP ANALYSIS\n",
    "# Calculate monthly group averages for WHOLE DAY kWh\n",
    "monthly_group_avg = monthly_kwh_avg.groupby(['treatment', 'period', 'year_month']).agg({\n",
    "    'daily_total_kwh': ['mean', 'std', 'count']\n",
    "}).reset_index()\n",
    "\n",
    "monthly_group_avg.columns = ['treatment', 'period', 'year_month', 'mean_total_kwh', 'std_total_kwh', 'count_total_kwh']\n",
    "\n",
    "# Create comparison dataset for whole day kWh\n",
    "pre_total_data = monthly_group_avg[monthly_group_avg['period'] == 'Pre'].copy()\n",
    "post_total_data = monthly_group_avg[monthly_group_avg['period'] == 'Post'].copy()\n",
    "\n",
    "total_comparison = pd.merge(\n",
    "    pre_total_data[['treatment', 'year_month', 'mean_total_kwh']],\n",
    "    post_total_data[['treatment', 'year_month', 'mean_total_kwh']],\n",
    "    on=['treatment'],\n",
    "    suffixes=('_pre', '_post')\n",
    ")\n",
    "\n",
    "# Calculate whole day kWh changes\n",
    "total_comparison['total_kwh_change'] = total_comparison['mean_total_kwh_post'] - total_comparison['mean_total_kwh_pre']\n",
    "total_comparison['total_kwh_pct_change'] = (total_comparison['total_kwh_change'] / total_comparison['mean_total_kwh_pre']) * 100\n",
    "\n",
    "# Calculate whole day intervention effect\n",
    "control_total_changes = total_comparison[total_comparison['treatment'] == 'Control']\n",
    "intervention_total_changes = total_comparison[total_comparison['treatment'] == 'Intervention']\n",
    "\n",
    "total_effects = pd.DataFrame({\n",
    "    'month_pre': control_total_changes['year_month_pre'].values,\n",
    "    'month_post': intervention_total_changes['year_month_post'].values,\n",
    "    'control_total_kwh_change': control_total_changes['total_kwh_change'].values,\n",
    "    'intervention_total_kwh_change': intervention_total_changes['total_kwh_change'].values,\n",
    "})\n",
    "\n",
    "total_effects['net_total_kwh_reduction'] = (\n",
    "    total_effects['intervention_total_kwh_change'] - total_effects['control_total_kwh_change']\n",
    ")\n",
    "\n",
    "control_baseline_total_kwh = control_total_changes['mean_total_kwh_pre'].values\n",
    "total_effects['net_total_kwh_pct_reduction'] = (\n",
    "    total_effects['net_total_kwh_reduction'] / control_baseline_total_kwh\n",
    ") * 100\n",
    "\n",
    "print(\"\\nWHOLE DAY kWh RESULTS\")\n",
    "print(f\"Average daily TOTAL kWh reduction: {total_effects['net_total_kwh_reduction'].mean():.3f} kWh/day\")\n",
    "print(f\"Average percentage TOTAL kWh reduction: {total_effects['net_total_kwh_pct_reduction'].mean():.2f}%\")"
   ]
  },
  {
   "cell_type": "code",
   "execution_count": 13,
   "id": "95aa6bb2",
   "metadata": {},
   "outputs": [
    {
     "name": "stdout",
     "output_type": "stream",
     "text": [
      "\n",
      "FULL DAY CO2 RESULTS\n",
      "Average daily CO2 reduction: -28.0 grams/day\n",
      "Average percentage CO2 reduction: -1.73%\n"
     ]
    }
   ],
   "source": [
    "# FULL DAY CO2 GROUP ANALYSIS\n",
    "\n",
    "# Calculate monthly group averages for FULL DAY CO2\n",
    "monthly_co2_group_avg = monthly_co2_avg.groupby(['treatment', 'period', 'year_month']).agg({\n",
    "    'daily_co2_grams': ['mean', 'std', 'count']\n",
    "}).reset_index()\n",
    "\n",
    "monthly_co2_group_avg.columns = ['treatment', 'period', 'year_month', 'mean_co2', 'std_co2', 'count_co2']\n",
    "\n",
    "# Create comparison dataset for CO2\n",
    "pre_co2_data = monthly_co2_group_avg[monthly_co2_group_avg['period'] == 'Pre'].copy()\n",
    "post_co2_data = monthly_co2_group_avg[monthly_co2_group_avg['period'] == 'Post'].copy()\n",
    "\n",
    "co2_comparison = pd.merge(\n",
    "    pre_co2_data[['treatment', 'year_month', 'mean_co2']],\n",
    "    post_co2_data[['treatment', 'year_month', 'mean_co2']],\n",
    "    on=['treatment'],\n",
    "    suffixes=('_pre', '_post')\n",
    ")\n",
    "\n",
    "# Calculate CO2 changes\n",
    "co2_comparison['co2_change'] = co2_comparison['mean_co2_post'] - co2_comparison['mean_co2_pre']\n",
    "co2_comparison['co2_pct_change'] = (co2_comparison['co2_change'] / co2_comparison['mean_co2_pre']) * 100\n",
    "\n",
    "# Calculate CO2 intervention effect\n",
    "control_co2_changes = co2_comparison[co2_comparison['treatment'] == 'Control']\n",
    "intervention_co2_changes = co2_comparison[co2_comparison['treatment'] == 'Intervention']\n",
    "\n",
    "co2_effects = pd.DataFrame({\n",
    "    'month_pre': control_co2_changes['year_month_pre'].values,\n",
    "    'month_post': intervention_co2_changes['year_month_post'].values,\n",
    "    'control_co2_change': control_co2_changes['co2_change'].values,\n",
    "    'intervention_co2_change': intervention_co2_changes['co2_change'].values,\n",
    "})\n",
    "\n",
    "co2_effects['net_co2_reduction'] = (\n",
    "    co2_effects['intervention_co2_change'] - co2_effects['control_co2_change']\n",
    ")\n",
    "\n",
    "control_baseline_co2 = control_co2_changes['mean_co2_pre'].values\n",
    "co2_effects['net_co2_pct_reduction'] = (\n",
    "    co2_effects['net_co2_reduction'] / control_baseline_co2\n",
    ") * 100\n",
    "\n",
    "print(\"\\nFULL DAY CO2 RESULTS\")\n",
    "print(f\"Average daily CO2 reduction: {co2_effects['net_co2_reduction'].mean():.1f} grams/day\")\n",
    "print(f\"Average percentage CO2 reduction: {co2_effects['net_co2_pct_reduction'].mean():.2f}%\")"
   ]
  },
  {
   "cell_type": "code",
   "execution_count": 14,
   "id": "17974b34",
   "metadata": {},
   "outputs": [
    {
     "name": "stdout",
     "output_type": "stream",
     "text": [
      "WHOLE DAY kWh reduction significance: t=-3.739, p=0.0003\n",
      "FULL DAY CO2 reduction significance: t=-2.492, p=0.0148\n",
      "WHOLE DAY kWh reduction is statistically significant (p < 0.05)\n",
      "FULL DAY CO2 reduction is statistically significant (p < 0.05)\n",
      "\n",
      "MONTHLY REDUCTIONS per household:\n",
      "  Whole Day kWh: -7.6 kWh/month (-2.65%)\n",
      "  Full Day CO2: -0.85 kg CO2/month (-1.93%)\n",
      "\n",
      "ANNUAL REDUCTIONS per household:\n",
      "  Whole Day kWh: -91.7 kWh/year\n",
      "  Full Day CO2: -10.2 kg CO2/year\n"
     ]
    }
   ],
   "source": [
    "# Statistical significance testing\n",
    "total_kwh_tstat, total_kwh_pval = stats.ttest_1samp(total_effects['net_total_kwh_reduction'], 0)\n",
    "co2_tstat, co2_pval = stats.ttest_1samp(co2_effects['net_co2_reduction'], 0)\n",
    "\n",
    "print(f\"WHOLE DAY kWh reduction significance: t={total_kwh_tstat:.3f}, p={total_kwh_pval:.4f}\")\n",
    "print(f\"FULL DAY CO2 reduction significance: t={co2_tstat:.3f}, p={co2_pval:.4f}\")\n",
    "\n",
    "if total_kwh_pval < 0.05:\n",
    "    print(\"WHOLE DAY kWh reduction is statistically significant (p < 0.05)\")\n",
    "else:\n",
    "    print(\"WHOLE DAY kWh reduction is not statistically significant (p ≥ 0.05)\")\n",
    "    \n",
    "if co2_pval < 0.05:\n",
    "    print(\"FULL DAY CO2 reduction is statistically significant (p < 0.05)\")\n",
    "else:\n",
    "    print(\"FULL DAY CO2 reduction is not statistically significant (p ≥ 0.05)\")\n",
    "\n",
    "# SUMMARY\n",
    "# Calculate monthly reductions\n",
    "monthly_total_reduction = total_effects['net_total_kwh_reduction'].mean() * 30.44\n",
    "monthly_co2_reduction = co2_effects['net_co2_reduction'].mean() * 30.44\n",
    "\n",
    "# Calculate annual reductions  \n",
    "annual_total_reduction = monthly_total_reduction * 12\n",
    "annual_co2_reduction = monthly_co2_reduction * 12\n",
    "\n",
    "# Calculate baselines\n",
    "monthly_baseline_total = control_baseline_total_kwh.mean() * 30.44\n",
    "annual_baseline_total = control_baseline_total_kwh.mean() * 365.25 \n",
    "\n",
    "monthly_baseline_co2 = control_baseline_co2.mean() * 30.44  \n",
    "annual_baseline_co2 = control_baseline_co2.mean() * 365.25\n",
    "\n",
    "# Calculate percentage reductions\n",
    "monthly_total_pct = (monthly_total_reduction / monthly_baseline_total) * 100\n",
    "monthly_co2_pct = (monthly_co2_reduction / monthly_baseline_co2) * 100\n",
    "\n",
    "# Display results\n",
    "print(f\"\\nMONTHLY REDUCTIONS per household:\")\n",
    "print(f\"  Whole Day kWh: {monthly_total_reduction:.1f} kWh/month ({monthly_total_pct:.2f}%)\")\n",
    "print(f\"  Full Day CO2: {monthly_co2_reduction/1000:.2f} kg CO2/month ({monthly_co2_pct:.2f}%)\")\n",
    "\n",
    "print(f\"\\nANNUAL REDUCTIONS per household:\")\n",
    "print(f\"  Whole Day kWh: {annual_total_reduction:.1f} kWh/year\")\n",
    "print(f\"  Full Day CO2: {annual_co2_reduction/1000:.1f} kg CO2/year\")"
   ]
  },
  {
   "cell_type": "markdown",
   "id": "9a83342e",
   "metadata": {},
   "source": [
    "Earlier peak hour kwh reductions were proportionally larger (-8.6%)"
   ]
  },
  {
   "cell_type": "code",
   "execution_count": 16,
   "id": "84cad484",
   "metadata": {},
   "outputs": [
    {
     "name": "stdout",
     "output_type": "stream",
     "text": [
      "\n",
      "BEST & WORST PERFORMING MONTHS\n",
      "Whole Day kWh Reduction:\n",
      "  Best month: 2024-07 (-1.653 kWh/day)\n",
      "  Worst month: 2024-09 (0.789 kWh/day)\n",
      "\n",
      "CO2 Reduction:\n",
      "  Best month: 2024-07 (-224.1 grams/day)\n",
      "  Worst month: 2024-08 (153.5 grams/day)\n"
     ]
    }
   ],
   "source": [
    "# Best and worst performing months\n",
    "print(f\"\\nBEST & WORST PERFORMING MONTHS\")\n",
    "\n",
    "best_total_month = total_effects.loc[total_effects['net_total_kwh_reduction'].idxmin()]\n",
    "worst_total_month = total_effects.loc[total_effects['net_total_kwh_reduction'].idxmax()]\n",
    "\n",
    "best_co2_month = co2_effects.loc[co2_effects['net_co2_reduction'].idxmin()] \n",
    "worst_co2_month = co2_effects.loc[co2_effects['net_co2_reduction'].idxmax()]\n",
    "\n",
    "print(f\"Whole Day kWh Reduction:\")\n",
    "print(f\"  Best month: {best_total_month['month_post']} ({best_total_month['net_total_kwh_reduction']:.3f} kWh/day)\")\n",
    "print(f\"  Worst month: {worst_total_month['month_post']} ({worst_total_month['net_total_kwh_reduction']:.3f} kWh/day)\")\n",
    "\n",
    "print(f\"\\nCO2 Reduction:\")\n",
    "print(f\"  Best month: {best_co2_month['month_post']} ({best_co2_month['net_co2_reduction']:.1f} grams/day)\")\n",
    "print(f\"  Worst month: {worst_co2_month['month_post']} ({worst_co2_month['net_co2_reduction']:.1f} grams/day)\")"
   ]
  }
 ],
 "metadata": {
  "kernelspec": {
   "display_name": "Python 3 (ipykernel)",
   "language": "python",
   "name": "python3"
  },
  "language_info": {
   "codemirror_mode": {
    "name": "ipython",
    "version": 3
   },
   "file_extension": ".py",
   "mimetype": "text/x-python",
   "name": "python",
   "nbconvert_exporter": "python",
   "pygments_lexer": "ipython3",
   "version": "3.11.5"
  }
 },
 "nbformat": 4,
 "nbformat_minor": 5
}
