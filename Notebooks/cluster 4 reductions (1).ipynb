{
 "cells": [
  {
   "cell_type": "code",
   "execution_count": 35,
   "id": "d92923b5",
   "metadata": {},
   "outputs": [],
   "source": [
    "import pandas as pd\n",
    "import numpy as np\n",
    "from scipy import stats"
   ]
  },
  {
   "cell_type": "code",
   "execution_count": 36,
   "id": "5230e088",
   "metadata": {},
   "outputs": [],
   "source": [
    "# Load the data to get cluster 4 IDs\n",
    "demo_df = pd.read_csv(r\"C:\\Users\\sonis\\Downloads\\comp_socio_df.csv\")\n",
    "cluster4_ids = demo_df[demo_df['Cluster_Comp06_k07'] == 4]['ANON_ID'].tolist()"
   ]
  },
  {
   "cell_type": "code",
   "execution_count": 37,
   "id": "4860cc10",
   "metadata": {},
   "outputs": [
    {
     "name": "stdout",
     "output_type": "stream",
     "text": [
      "Electricity data\n",
      "Total electricity records: 24246420\n"
     ]
    }
   ],
   "source": [
    "# Load the electricity data \n",
    "print(\"Electricity data\")\n",
    "elec_df = pd.read_csv(r\"C:\\Users\\sonis\\carbon_full_day.csv.gz\", compression='gzip')\n",
    "print(f\"Total electricity records: {len(elec_df)}\")"
   ]
  },
  {
   "cell_type": "code",
   "execution_count": 38,
   "id": "351b9d07",
   "metadata": {},
   "outputs": [
    {
     "name": "stdout",
     "output_type": "stream",
     "text": [
      "Cluster 4 electricity records: 2,672,251\n",
      "Unique cluster 4 customers found: 98\n",
      "Cluster  4 Analysis\n",
      "Analysis period data: 2,257,094 records\n"
     ]
    }
   ],
   "source": [
    "# Filter for cluster 4 customers only\n",
    "cluster4_elec = elec_df[elec_df['ANON_ID'].isin(cluster4_ids)]\n",
    "print(f\"Cluster 4 electricity records: {len(cluster4_elec):,}\")\n",
    "print(f\"Unique cluster 4 customers found: {cluster4_elec['ANON_ID'].nunique()}\")\n",
    "\n",
    "# Fix the copy warning and prepare data\n",
    "cluster4_elec = cluster4_elec.copy()\n",
    "cluster4_elec['DateTime'] = pd.to_datetime(cluster4_elec['DateTime'])\n",
    "\n",
    "# Filter for April-December analysis periods only\n",
    "cluster4_elec['month'] = cluster4_elec['DateTime'].dt.month\n",
    "cluster4_elec['year'] = cluster4_elec['DateTime'].dt.year\n",
    "cluster4_elec['hour'] = cluster4_elec['DateTime'].dt.hour\n",
    "cluster4_elec['day_of_week'] = cluster4_elec['DateTime'].dt.dayofweek  # 0=Monday, 6=Sunday\n",
    "\n",
    "# Filter for April-December in both years\n",
    "analysis_data = cluster4_elec[cluster4_elec['month'].isin([4,5,6,7,8,9,10,11,12])].copy()\n",
    "\n",
    "print(\"Cluster  4 Analysis\")\n",
    "print(f\"Analysis period data: {len(analysis_data):,} records\")"
   ]
  },
  {
   "cell_type": "code",
   "execution_count": 39,
   "id": "403550d1",
   "metadata": {},
   "outputs": [
    {
     "name": "stdout",
     "output_type": "stream",
     "text": [
      "\n",
      "PEAK HOURS kWh ANALYSIS\n",
      "Peak hours data: 345,938 records\n",
      "Daily peak totals calculated: 43,459 customer-days\n",
      "Monthly peak averages calculated: 1,711 customer-months\n"
     ]
    }
   ],
   "source": [
    "# PEAK HOURS kWh ANALYSIS (4-7pm, Mon-Sat)\n",
    "\n",
    "print(\"\\nPEAK HOURS kWh ANALYSIS\")\n",
    "\n",
    "# Filter for peak hours: 4-7pm (16-19), Monday-Saturday (0-5)\n",
    "peak_data = analysis_data[\n",
    "    (analysis_data['hour'].isin([16, 17, 18, 19])) &  # 4pm-7pm\n",
    "    (analysis_data['day_of_week'].isin([0, 1, 2, 3, 4, 5]))  # Mon-Sat\n",
    "].copy()\n",
    "\n",
    "print(f\"Peak hours data: {len(peak_data):,} records\")\n",
    "\n",
    "# Calculate daily peak totals per customer\n",
    "daily_peak_totals = peak_data.groupby([\n",
    "    'ANON_ID', 'treatment', 'period', \n",
    "    peak_data['DateTime'].dt.date\n",
    "]).agg({\n",
    "    'ELEC_KWH': 'sum'  # Daily peak kWh total (only 4-7pm)\n",
    "}).reset_index()\n",
    "\n",
    "daily_peak_totals.columns = ['ANON_ID', 'treatment', 'period', 'date', 'daily_peak_kwh']\n",
    "daily_peak_totals['date'] = pd.to_datetime(daily_peak_totals['date'])\n",
    "daily_peak_totals['year_month'] = daily_peak_totals['date'].dt.to_period('M')\n",
    "\n",
    "print(f\"Daily peak totals calculated: {len(daily_peak_totals):,} customer-days\")\n",
    "\n",
    "# Calculate monthly averages for peak hours\n",
    "monthly_peak_avg = daily_peak_totals.groupby([\n",
    "    'ANON_ID', 'treatment', 'period', 'year_month'\n",
    "]).agg({\n",
    "    'daily_peak_kwh': 'mean'\n",
    "}).reset_index()\n",
    "\n",
    "print(f\"Monthly peak averages calculated: {len(monthly_peak_avg):,} customer-months\")"
   ]
  },
  {
   "cell_type": "code",
   "execution_count": 41,
   "id": "0b52765e",
   "metadata": {},
   "outputs": [
    {
     "name": "stdout",
     "output_type": "stream",
     "text": [
      "\n",
      "FULL DAY CO2 ANALYSIS\n",
      "Daily CO2 totals calculated: 47,813 customer-days\n",
      "Monthly CO2 averages calculated: 1,711 customer-months\n"
     ]
    }
   ],
   "source": [
    "# FULL DAY CO2 ANALYSIS (All 48 intervals)\n",
    "\n",
    "print(\"\\nFULL DAY CO2 ANALYSIS\")\n",
    "\n",
    "# Calculate daily CO2 totals per customer (all day)\n",
    "daily_co2_totals = analysis_data.groupby([\n",
    "    'ANON_ID', 'treatment', 'period', \n",
    "    analysis_data['DateTime'].dt.date\n",
    "]).agg({\n",
    "    'carbon_emissions': 'sum'  # Daily CO2 total (all 48 intervals)\n",
    "}).reset_index()\n",
    "\n",
    "daily_co2_totals.columns = ['ANON_ID', 'treatment', 'period', 'date', 'daily_co2_grams']\n",
    "daily_co2_totals['date'] = pd.to_datetime(daily_co2_totals['date'])\n",
    "daily_co2_totals['year_month'] = daily_co2_totals['date'].dt.to_period('M')\n",
    "\n",
    "print(f\"Daily CO2 totals calculated: {len(daily_co2_totals):,} customer-days\")\n",
    "\n",
    "# Calculate monthly averages for CO2\n",
    "monthly_co2_avg = daily_co2_totals.groupby([\n",
    "    'ANON_ID', 'treatment', 'period', 'year_month'\n",
    "]).agg({\n",
    "    'daily_co2_grams': 'mean'\n",
    "}).reset_index()\n",
    "\n",
    "print(f\"Monthly CO2 averages calculated: {len(monthly_co2_avg):,} customer-months\")"
   ]
  },
  {
   "cell_type": "code",
   "execution_count": 44,
   "id": "e909fbe5",
   "metadata": {},
   "outputs": [
    {
     "name": "stdout",
     "output_type": "stream",
     "text": [
      "\n",
      "PEAK kWh RESULTS\n",
      "Average daily PEAK kWh reduction: -0.211 kWh/day\n",
      "Average percentage PEAK kWh reduction: -8.48%\n"
     ]
    }
   ],
   "source": [
    "# PEAK kWh GROUP ANALYSIS\n",
    "\n",
    "# Calculate monthly group averages for PEAK kWh\n",
    "monthly_peak_group_avg = monthly_peak_avg.groupby(['treatment', 'period', 'year_month']).agg({\n",
    "    'daily_peak_kwh': ['mean', 'std', 'count']\n",
    "}).reset_index()\n",
    "\n",
    "monthly_peak_group_avg.columns = ['treatment', 'period', 'year_month', 'mean_peak_kwh', 'std_peak_kwh', 'count_peak_kwh']\n",
    "\n",
    "# Create comparison dataset for peak kWh\n",
    "pre_peak_data = monthly_peak_group_avg[monthly_peak_group_avg['period'] == 'Pre'].copy()\n",
    "post_peak_data = monthly_peak_group_avg[monthly_peak_group_avg['period'] == 'Post'].copy()\n",
    "\n",
    "peak_comparison = pd.merge(\n",
    "    pre_peak_data[['treatment', 'year_month', 'mean_peak_kwh']],\n",
    "    post_peak_data[['treatment', 'year_month', 'mean_peak_kwh']],\n",
    "    on=['treatment'],\n",
    "    suffixes=('_pre', '_post')\n",
    ")\n",
    "\n",
    "# Calculate peak kWh changes\n",
    "peak_comparison['peak_kwh_change'] = peak_comparison['mean_peak_kwh_post'] - peak_comparison['mean_peak_kwh_pre']\n",
    "peak_comparison['peak_kwh_pct_change'] = (peak_comparison['peak_kwh_change'] / peak_comparison['mean_peak_kwh_pre']) * 100\n",
    "\n",
    "# Calculate peak intervention effect\n",
    "control_peak_changes = peak_comparison[peak_comparison['treatment'] == 'Control']\n",
    "intervention_peak_changes = peak_comparison[peak_comparison['treatment'] == 'Intervention']\n",
    "\n",
    "peak_effects = pd.DataFrame({\n",
    "    'month_pre': control_peak_changes['year_month_pre'].values,\n",
    "    'month_post': intervention_peak_changes['year_month_post'].values,\n",
    "    'control_peak_kwh_change': control_peak_changes['peak_kwh_change'].values,\n",
    "    'intervention_peak_kwh_change': intervention_peak_changes['peak_kwh_change'].values,\n",
    "})\n",
    "\n",
    "peak_effects['net_peak_kwh_reduction'] = (\n",
    "    peak_effects['intervention_peak_kwh_change'] - peak_effects['control_peak_kwh_change']\n",
    ")\n",
    "\n",
    "control_baseline_peak_kwh = control_peak_changes['mean_peak_kwh_pre'].values\n",
    "peak_effects['net_peak_kwh_pct_reduction'] = (\n",
    "    peak_effects['net_peak_kwh_reduction'] / control_baseline_peak_kwh\n",
    ") * 100\n",
    "\n",
    "print(\"\\nPEAK kWh RESULTS\")\n",
    "print(f\"Average daily PEAK kWh reduction: {peak_effects['net_peak_kwh_reduction'].mean():.3f} kWh/day\")\n",
    "print(f\"Average percentage PEAK kWh reduction: {peak_effects['net_peak_kwh_pct_reduction'].mean():.2f}%\")"
   ]
  },
  {
   "cell_type": "code",
   "execution_count": 45,
   "id": "95aa6bb2",
   "metadata": {},
   "outputs": [
    {
     "name": "stdout",
     "output_type": "stream",
     "text": [
      "\n",
      "FULL DAY CO2 RESULTS\n",
      "Average daily CO2 reduction: -28.0 grams/day\n",
      "Average percentage CO2 reduction: -1.73%\n"
     ]
    }
   ],
   "source": [
    "# FULL DAY CO2 GROUP ANALYSIS\n",
    "\n",
    "# Calculate monthly group averages for FULL DAY CO2\n",
    "monthly_co2_group_avg = monthly_co2_avg.groupby(['treatment', 'period', 'year_month']).agg({\n",
    "    'daily_co2_grams': ['mean', 'std', 'count']\n",
    "}).reset_index()\n",
    "\n",
    "monthly_co2_group_avg.columns = ['treatment', 'period', 'year_month', 'mean_co2', 'std_co2', 'count_co2']\n",
    "\n",
    "# Create comparison dataset for CO2\n",
    "pre_co2_data = monthly_co2_group_avg[monthly_co2_group_avg['period'] == 'Pre'].copy()\n",
    "post_co2_data = monthly_co2_group_avg[monthly_co2_group_avg['period'] == 'Post'].copy()\n",
    "\n",
    "co2_comparison = pd.merge(\n",
    "    pre_co2_data[['treatment', 'year_month', 'mean_co2']],\n",
    "    post_co2_data[['treatment', 'year_month', 'mean_co2']],\n",
    "    on=['treatment'],\n",
    "    suffixes=('_pre', '_post')\n",
    ")\n",
    "\n",
    "# Calculate CO2 changes\n",
    "co2_comparison['co2_change'] = co2_comparison['mean_co2_post'] - co2_comparison['mean_co2_pre']\n",
    "co2_comparison['co2_pct_change'] = (co2_comparison['co2_change'] / co2_comparison['mean_co2_pre']) * 100\n",
    "\n",
    "# Calculate CO2 intervention effect\n",
    "control_co2_changes = co2_comparison[co2_comparison['treatment'] == 'Control']\n",
    "intervention_co2_changes = co2_comparison[co2_comparison['treatment'] == 'Intervention']\n",
    "\n",
    "co2_effects = pd.DataFrame({\n",
    "    'month_pre': control_co2_changes['year_month_pre'].values,\n",
    "    'month_post': intervention_co2_changes['year_month_post'].values,\n",
    "    'control_co2_change': control_co2_changes['co2_change'].values,\n",
    "    'intervention_co2_change': intervention_co2_changes['co2_change'].values,\n",
    "})\n",
    "\n",
    "co2_effects['net_co2_reduction'] = (\n",
    "    co2_effects['intervention_co2_change'] - co2_effects['control_co2_change']\n",
    ")\n",
    "\n",
    "control_baseline_co2 = control_co2_changes['mean_co2_pre'].values\n",
    "co2_effects['net_co2_pct_reduction'] = (\n",
    "    co2_effects['net_co2_reduction'] / control_baseline_co2\n",
    ") * 100\n",
    "\n",
    "print(\"\\nFULL DAY CO2 RESULTS\")\n",
    "print(f\"Average daily CO2 reduction: {co2_effects['net_co2_reduction'].mean():.1f} grams/day\")\n",
    "print(f\"Average percentage CO2 reduction: {co2_effects['net_co2_pct_reduction'].mean():.2f}%\")"
   ]
  },
  {
   "cell_type": "code",
   "execution_count": 61,
   "id": "17974b34",
   "metadata": {},
   "outputs": [
    {
     "name": "stdout",
     "output_type": "stream",
     "text": [
      "\n",
      "STATISTICAL SIGNIFICANCE\n",
      "PEAK kWh reduction significance: t=-13.095, p=0.0000\n",
      "FULL DAY CO2 reduction significance: t=-2.492, p=0.0148\n",
      "PEAK kWh reduction is statistically significant (p < 0.05)\n",
      "FULL DAY CO2 reduction is statistically significant (p < 0.05)\n",
      "\n",
      "MONTHLY REDUCTIONS per household:\n",
      "  Peak kWh: -6.4 kWh/month (-8.76%)\n",
      "  Full CO2: -0.85 kg CO2/month (-1.93%)\n",
      "\n",
      "ANNUAL REDUCTIONS per household:\n",
      "  Peak kWh: -77.1 kWh/year\n",
      "  Full CO2: -10.2 kg CO2/year\n"
     ]
    }
   ],
   "source": [
    "# Statistical significance testing\n",
    "print(\"\\nSTATISTICAL SIGNIFICANCE\")\n",
    "peak_kwh_tstat, peak_kwh_pval = stats.ttest_1samp(peak_effects['net_peak_kwh_reduction'], 0)\n",
    "co2_tstat, co2_pval = stats.ttest_1samp(co2_effects['net_co2_reduction'], 0)\n",
    "\n",
    "print(f\"PEAK kWh reduction significance: t={peak_kwh_tstat:.3f}, p={peak_kwh_pval:.4f}\")\n",
    "print(f\"FULL DAY CO2 reduction significance: t={co2_tstat:.3f}, p={co2_pval:.4f}\")\n",
    "\n",
    "if peak_kwh_pval < 0.05:\n",
    "    print(\"PEAK kWh reduction is statistically significant (p < 0.05)\")\n",
    "else:\n",
    "    print(\"PEAK kWh reduction is not statistically significant (p ≥ 0.05)\")\n",
    "    \n",
    "if co2_pval < 0.05:\n",
    "    print(\"FULL DAY CO2 reduction is statistically significant (p < 0.05)\")\n",
    "else:\n",
    "    print(\"FULL DAY CO2 reduction is not statistically significant (p ≥ 0.05)\")\n",
    "\n",
    "# SUMMARY\n",
    "# Calculate monthly reductions\n",
    "monthly_peak_reduction = peak_effects['net_peak_kwh_reduction'].mean() * 30.44\n",
    "monthly_co2_reduction = co2_effects['net_co2_reduction'].mean() * 30.44\n",
    "\n",
    "# Calculate annual reductions  \n",
    "annual_peak_reduction = monthly_peak_reduction * 12\n",
    "annual_co2_reduction = monthly_co2_reduction * 12\n",
    "\n",
    "# Calculate baselines differently to show variation\n",
    "monthly_baseline_peak = control_baseline_peak_kwh.mean() * 30.44\n",
    "annual_baseline_peak = control_baseline_peak_kwh.mean() * 365.25 \n",
    "monthly_baseline_co2 = control_baseline_co2.mean() * 30.44  \n",
    "annual_baseline_co2 = control_baseline_co2.mean() * 365.25\n",
    "\n",
    "# Calculate percentage reductions\n",
    "monthly_peak_pct = (monthly_peak_reduction / monthly_baseline_peak) * 100\n",
    "monthly_co2_pct = (monthly_co2_reduction / monthly_baseline_co2) * 100\n",
    "\n",
    "# Display results\n",
    "print(f\"\\nMONTHLY REDUCTIONS per household:\")\n",
    "print(f\"  Peak kWh: {monthly_peak_reduction:.1f} kWh/month ({monthly_peak_pct:.2f}%)\")\n",
    "print(f\"  Full CO2: {monthly_co2_reduction/1000:.2f} kg CO2/month ({monthly_co2_pct:.2f}%)\")\n",
    "\n",
    "print(f\"\\nANNUAL REDUCTIONS per household:\")\n",
    "print(f\"  Peak kWh: {annual_peak_reduction:.1f} kWh/year\")\n",
    "print(f\"  Full CO2: {annual_co2_reduction/1000:.1f} kg CO2/year\")"
   ]
  },
  {
   "cell_type": "code",
   "execution_count": 62,
   "id": "84cad484",
   "metadata": {},
   "outputs": [
    {
     "name": "stdout",
     "output_type": "stream",
     "text": [
      "\n",
      "BEST & WORST PERFORMING MONTHS\n",
      "Peak kWh Reduction:\n",
      "  Best month: 2024-10 (-0.508 kWh/day)\n",
      "  Worst month: 2024-09 (0.094 kWh/day)\n",
      "\n",
      "CO2 Reduction:\n",
      "  Best month: 2024-07 (-224.1 grams/day)\n",
      "  Worst month: 2024-08 (153.5 grams/day)\n"
     ]
    }
   ],
   "source": [
    "# best and worst performing months\n",
    "print(f\"\\nBEST & WORST PERFORMING MONTHS\")\n",
    "\n",
    "best_peak_month = peak_effects.loc[peak_effects['net_peak_kwh_reduction'].idxmin()]\n",
    "worst_peak_month = peak_effects.loc[peak_effects['net_peak_kwh_reduction'].idxmax()]\n",
    "\n",
    "best_co2_month = co2_effects.loc[co2_effects['net_co2_reduction'].idxmin()] \n",
    "worst_co2_month = co2_effects.loc[co2_effects['net_co2_reduction'].idxmax()]\n",
    "\n",
    "print(f\"Peak kWh Reduction:\")\n",
    "print(f\"  Best month: {best_peak_month['month_post']} ({best_peak_month['net_peak_kwh_reduction']:.3f} kWh/day)\")\n",
    "print(f\"  Worst month: {worst_peak_month['month_post']} ({worst_peak_month['net_peak_kwh_reduction']:.3f} kWh/day)\")\n",
    "\n",
    "print(f\"\\nCO2 Reduction:\")\n",
    "print(f\"  Best month: {best_co2_month['month_post']} ({best_co2_month['net_co2_reduction']:.1f} grams/day)\")\n",
    "print(f\"  Worst month: {worst_co2_month['month_post']} ({worst_co2_month['net_co2_reduction']:.1f} grams/day)\")\n",
    "\n",
    "# Add variation insight\n",
    "peak_variation = abs(best_peak_month['net_peak_kwh_reduction'] - worst_peak_month['net_peak_kwh_reduction'])\n",
    "co2_variation = abs(best_co2_month['net_co2_reduction'] - worst_co2_month['net_co2_reduction'])"
   ]
  }
 ],
 "metadata": {
  "kernelspec": {
   "display_name": "Python 3 (ipykernel)",
   "language": "python",
   "name": "python3"
  },
  "language_info": {
   "codemirror_mode": {
    "name": "ipython",
    "version": 3
   },
   "file_extension": ".py",
   "mimetype": "text/x-python",
   "name": "python",
   "nbconvert_exporter": "python",
   "pygments_lexer": "ipython3",
   "version": "3.11.5"
  }
 },
 "nbformat": 4,
 "nbformat_minor": 5
}
