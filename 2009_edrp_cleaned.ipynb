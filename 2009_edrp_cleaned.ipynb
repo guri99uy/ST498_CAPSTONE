{
 "cells": [
  {
   "cell_type": "code",
   "execution_count": 6,
   "id": "e16f88bc",
   "metadata": {},
   "outputs": [],
   "source": [
    "import pandas as pd"
   ]
  },
  {
   "cell_type": "code",
   "execution_count": 7,
   "id": "212a8581",
   "metadata": {},
   "outputs": [],
   "source": [
    "data = pd.read_csv(\"D:/LSE/Capstone Project/7591elec/csv/7591elec_2009.csv\")"
   ]
  },
  {
   "cell_type": "code",
   "execution_count": 8,
   "id": "7abc524c",
   "metadata": {},
   "outputs": [
    {
     "data": {
      "text/html": [
       "<div>\n",
       "<style scoped>\n",
       "    .dataframe tbody tr th:only-of-type {\n",
       "        vertical-align: middle;\n",
       "    }\n",
       "\n",
       "    .dataframe tbody tr th {\n",
       "        vertical-align: top;\n",
       "    }\n",
       "\n",
       "    .dataframe thead th {\n",
       "        text-align: right;\n",
       "    }\n",
       "</style>\n",
       "<table border=\"1\" class=\"dataframe\">\n",
       "  <thead>\n",
       "    <tr style=\"text-align: right;\">\n",
       "      <th></th>\n",
       "      <th>ANON_ID</th>\n",
       "      <th>ADVANCEDATETIME</th>\n",
       "      <th>HH</th>\n",
       "      <th>ELECKWH</th>\n",
       "      <th>Year</th>\n",
       "    </tr>\n",
       "  </thead>\n",
       "  <tbody>\n",
       "    <tr>\n",
       "      <th>0</th>\n",
       "      <td>12860</td>\n",
       "      <td>2009-01-01 00:00:00</td>\n",
       "      <td>0</td>\n",
       "      <td>0.55</td>\n",
       "      <td>2009</td>\n",
       "    </tr>\n",
       "    <tr>\n",
       "      <th>1</th>\n",
       "      <td>3796</td>\n",
       "      <td>2009-01-01 00:00:00</td>\n",
       "      <td>0</td>\n",
       "      <td>0.24</td>\n",
       "      <td>2009</td>\n",
       "    </tr>\n",
       "    <tr>\n",
       "      <th>2</th>\n",
       "      <td>1646</td>\n",
       "      <td>2009-01-01 00:00:00</td>\n",
       "      <td>0</td>\n",
       "      <td>1.55</td>\n",
       "      <td>2009</td>\n",
       "    </tr>\n",
       "    <tr>\n",
       "      <th>3</th>\n",
       "      <td>15625</td>\n",
       "      <td>2009-01-01 00:00:00</td>\n",
       "      <td>0</td>\n",
       "      <td>0.67</td>\n",
       "      <td>2009</td>\n",
       "    </tr>\n",
       "    <tr>\n",
       "      <th>4</th>\n",
       "      <td>11175</td>\n",
       "      <td>2009-01-01 00:00:00</td>\n",
       "      <td>0</td>\n",
       "      <td>0.29</td>\n",
       "      <td>2009</td>\n",
       "    </tr>\n",
       "  </tbody>\n",
       "</table>\n",
       "</div>"
      ],
      "text/plain": [
       "   ANON_ID      ADVANCEDATETIME  HH  ELECKWH  Year\n",
       "0    12860  2009-01-01 00:00:00   0     0.55  2009\n",
       "1     3796  2009-01-01 00:00:00   0     0.24  2009\n",
       "2     1646  2009-01-01 00:00:00   0     1.55  2009\n",
       "3    15625  2009-01-01 00:00:00   0     0.67  2009\n",
       "4    11175  2009-01-01 00:00:00   0     0.29  2009"
      ]
     },
     "execution_count": 8,
     "metadata": {},
     "output_type": "execute_result"
    }
   ],
   "source": [
    "data.head()"
   ]
  },
  {
   "cell_type": "code",
   "execution_count": 9,
   "id": "ee3043bb",
   "metadata": {},
   "outputs": [
    {
     "name": "stdout",
     "output_type": "stream",
     "text": [
      "Original data shape: (76674268, 5)\n",
      "Cleaned data shape: (21204528, 6)\n",
      "Number of ANON_IDs dropped: 3999\n"
     ]
    }
   ],
   "source": [
    "# Convert columns to the correct data types \n",
    "data['ADVANCEDATETIME'] = pd.to_datetime(data['ADVANCEDATETIME'], errors='coerce')\n",
    "data['HH'] = pd.to_numeric(data['HH'], errors='coerce')\n",
    "\n",
    "# Remove rows with missing values in ADVANCEDATETIME or HH\n",
    "data_cleaned = data.dropna(subset=['ADVANCEDATETIME', 'HH'])\n",
    "\n",
    "# Create a Date column and check if each ANON_ID has exactly 48 unique HH values per day\n",
    "data_cleaned['Date'] = data_cleaned['ADVANCEDATETIME'].dt.date  \n",
    "hh_completeness = data_cleaned.groupby(['ANON_ID', 'Date'])['HH'].nunique().reset_index()\n",
    "hh_completeness.columns = ['ANON_ID', 'Date', 'HH_Count']\n",
    "\n",
    "# Find ANON_IDs with missing HH values (less than 48 for any day)\n",
    "incomplete_entries = hh_completeness[hh_completeness['HH_Count'] < 48]\n",
    "incomplete_ids = incomplete_entries['ANON_ID'].unique()\n",
    "\n",
    "# Remove ANON_IDs with incomplete HH data\n",
    "data_cleaned = data_cleaned[~data_cleaned['ANON_ID'].isin(incomplete_ids)]\n",
    "\n",
    "# Save the cleaned data to a new CSV file\n",
    "data_cleaned.to_csv('cleaned_electricity_data.csv', index=False)\n",
    "\n",
    "print(f\"Original data shape: {data.shape}\")\n",
    "print(f\"Cleaned data shape: {data_cleaned.shape}\")\n",
    "print(f\"Number of ANON_IDs dropped: {len(incomplete_ids)}\")"
   ]
  },
  {
   "cell_type": "code",
   "execution_count": 10,
   "id": "aca44aee",
   "metadata": {},
   "outputs": [
    {
     "data": {
      "text/plain": [
       "ANON_ID            0\n",
       "ADVANCEDATETIME    0\n",
       "HH                 0\n",
       "ELECKWH            0\n",
       "Year               0\n",
       "Date               0\n",
       "dtype: int64"
      ]
     },
     "execution_count": 10,
     "metadata": {},
     "output_type": "execute_result"
    }
   ],
   "source": [
    "data_cleaned.isnull().sum()  # Check for other missing values"
   ]
  },
  {
   "cell_type": "code",
   "execution_count": 13,
   "id": "2b319755",
   "metadata": {},
   "outputs": [
    {
     "name": "stdout",
     "output_type": "stream",
     "text": [
      "C:\\Users\\sonis\n"
     ]
    }
   ],
   "source": [
    "import os\n",
    "print(os.getcwd())"
   ]
  }
 ],
 "metadata": {
  "kernelspec": {
   "display_name": "Python 3 (ipykernel)",
   "language": "python",
   "name": "python3"
  },
  "language_info": {
   "codemirror_mode": {
    "name": "ipython",
    "version": 3
   },
   "file_extension": ".py",
   "mimetype": "text/x-python",
   "name": "python",
   "nbconvert_exporter": "python",
   "pygments_lexer": "ipython3",
   "version": "3.11.5"
  }
 },
 "nbformat": 4,
 "nbformat_minor": 5
}
